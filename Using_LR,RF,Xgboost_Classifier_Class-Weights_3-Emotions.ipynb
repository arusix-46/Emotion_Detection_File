{
  "nbformat": 4,
  "nbformat_minor": 0,
  "metadata": {
    "colab": {
      "provenance": [],
      "gpuType": "T4"
    },
    "kernelspec": {
      "name": "python3",
      "display_name": "Python 3"
    },
    "language_info": {
      "name": "python"
    },
    "accelerator": "GPU"
  },
  "cells": [
    {
      "cell_type": "markdown",
      "source": [
        "Importing Necessary Libraries"
      ],
      "metadata": {
        "id": "SjbCjcl44Qv0"
      }
    },
    {
      "cell_type": "code",
      "execution_count": null,
      "metadata": {
        "id": "YTGLtj210HIw"
      },
      "outputs": [],
      "source": [
        "import pandas as pd\n",
        "import numpy as np\n",
        "\n",
        "# For preprocessing\n",
        "from sklearn.model_selection import train_test_split\n",
        "from sklearn.preprocessing import OneHotEncoder\n",
        "from sklearn.feature_extraction.text import TfidfVectorizer\n",
        "\n",
        "# For handling class imbalance\n",
        "from sklearn.utils.class_weight import compute_class_weight\n",
        "\n",
        "# For modeling\n",
        "from sklearn.linear_model import LogisticRegression\n",
        "from sklearn.pipeline import Pipeline\n",
        "from sklearn.compose import ColumnTransformer\n",
        "\n",
        "# For hyperparameter tuning\n",
        "from sklearn.model_selection import GridSearchCV\n",
        "\n",
        "# For evaluation\n",
        "from sklearn.metrics import classification_report, confusion_matrix, accuracy_score, precision_score, recall_score, f1_score\n",
        "\n",
        "# For handling warnings\n",
        "import warnings\n",
        "warnings.filterwarnings('ignore')\n",
        "\n"
      ]
    },
    {
      "cell_type": "markdown",
      "source": [
        "Loading the Dataset"
      ],
      "metadata": {
        "id": "IqL_wWO44Vv0"
      }
    },
    {
      "cell_type": "code",
      "source": [
        "# --------------------------------------------\n",
        "# 1. Load the Dataset\n",
        "# --------------------------------------------\n",
        "\n",
        "# Load the dataset (replace the file path with the actual path)\n",
        "df = pd.read_excel('/content/Emotions_DS.xlsx')\n",
        "\n",
        "# --------------------------------------------\n",
        "# 2. Replace emotion values\n",
        "# --------------------------------------------\n",
        "\n",
        "# Replace -1, -2, -3 with -1 (negative emotions)\n",
        "# Replace 1, 2, 9 with 1 (positive emotions)\n",
        "df['Emotion'] = df['Emotion'].replace([-1, -2, -3], -1).replace([1, 2, 9], 1)\n",
        "\n",
        "# Create a new dataframe after replacements\n",
        "new_df = df.copy()\n",
        "\n",
        "# Display the first few rows of the new dataframe\n",
        "print(\"New DataFrame after Emotion Replacement:\")\n",
        "print(new_df.head())"
      ],
      "metadata": {
        "colab": {
          "base_uri": "https://localhost:8080/"
        },
        "id": "rPXGEFtq0UPY",
        "outputId": "d52a2769-320b-46ef-9342-9ed14f19ff59"
      },
      "execution_count": null,
      "outputs": [
        {
          "output_type": "stream",
          "name": "stdout",
          "text": [
            "New DataFrame after Emotion Replacement:\n",
            "      ID Type                                          Utterance Dialogue_Act  \\\n",
            "0  194_0    T  Hi. Alvina, how are you doing today? It's good...           gt   \n",
            "1  194_1    P                                    I'm just tired.           gt   \n",
            "2  194_2    T                                        just tired?          crq   \n",
            "3  194_3    P                                               Yeah           cd   \n",
            "4  194_4    T  you know, we did some pre visit planning with ...      gc, irq   \n",
            "\n",
            "   Emotion  \n",
            "0        0  \n",
            "1       -1  \n",
            "2        0  \n",
            "3       -1  \n",
            "4        0  \n"
          ]
        }
      ]
    },
    {
      "cell_type": "code",
      "source": [
        "# Save the new dataframe as a CSV file in Colab\n",
        "new_df.to_excel('/content/Emotions_DS_updated.xlsx', index=False)\n",
        "\n",
        "print(\"New DataFrame saved as Emotions_DS_updated.xlsx\")"
      ],
      "metadata": {
        "colab": {
          "base_uri": "https://localhost:8080/"
        },
        "id": "MjK_szHDdERh",
        "outputId": "67f556ea-4624-4f43-980b-79de47d9ea51"
      },
      "execution_count": null,
      "outputs": [
        {
          "output_type": "stream",
          "name": "stdout",
          "text": [
            "New DataFrame saved as Emotions_DS_updated.xlsx\n"
          ]
        }
      ]
    },
    {
      "cell_type": "markdown",
      "source": [
        "Handling Class Imbalance with Class Weights"
      ],
      "metadata": {
        "id": "tHlO_F3P4ZTy"
      }
    },
    {
      "cell_type": "code",
      "source": [
        "# --------------------------------------------\n",
        "# 3. Handling Class Imbalance with Class Weights\n",
        "# --------------------------------------------\n",
        "\n",
        "# Assuming the target column is named 'emotion'\n",
        "target_column = 'Emotion'\n",
        "\n",
        "# Extract the classes and compute class weights\n",
        "classes = new_df[target_column].unique()\n",
        "class_weights = compute_class_weight(class_weight='balanced',\n",
        "                                     classes=classes,\n",
        "                                     y=new_df[target_column])\n",
        "class_weight_dict = dict(zip(classes, class_weights))\n",
        "print(\"\\nClass Weights:\")\n",
        "print(class_weight_dict)\n"
      ],
      "metadata": {
        "colab": {
          "base_uri": "https://localhost:8080/"
        },
        "id": "KCeSWSnX0lC9",
        "outputId": "554d5e00-ee50-4f6c-a7ed-e2d8587faccd"
      },
      "execution_count": null,
      "outputs": [
        {
          "output_type": "stream",
          "name": "stdout",
          "text": [
            "\n",
            "Class Weights:\n",
            "{0: 0.4267935578330893, -1: 1.6345794392523365, 1: 22.139240506329113}\n"
          ]
        }
      ]
    },
    {
      "cell_type": "code",
      "source": [
        "!pip install imbalanced-learn\n"
      ],
      "metadata": {
        "colab": {
          "base_uri": "https://localhost:8080/"
        },
        "id": "3JAx_Sc9etpp",
        "outputId": "4dc20cf9-fc3c-4aef-ab83-d4162110c2ec"
      },
      "execution_count": null,
      "outputs": [
        {
          "output_type": "stream",
          "name": "stdout",
          "text": [
            "Requirement already satisfied: imbalanced-learn in /usr/local/lib/python3.10/dist-packages (0.12.3)\n",
            "Requirement already satisfied: numpy>=1.17.3 in /usr/local/lib/python3.10/dist-packages (from imbalanced-learn) (1.26.4)\n",
            "Requirement already satisfied: scipy>=1.5.0 in /usr/local/lib/python3.10/dist-packages (from imbalanced-learn) (1.13.1)\n",
            "Requirement already satisfied: scikit-learn>=1.0.2 in /usr/local/lib/python3.10/dist-packages (from imbalanced-learn) (1.5.2)\n",
            "Requirement already satisfied: joblib>=1.1.1 in /usr/local/lib/python3.10/dist-packages (from imbalanced-learn) (1.4.2)\n",
            "Requirement already satisfied: threadpoolctl>=2.0.0 in /usr/local/lib/python3.10/dist-packages (from imbalanced-learn) (3.5.0)\n"
          ]
        }
      ]
    },
    {
      "cell_type": "code",
      "source": [
        "\n",
        "# Initialize SMOTE\n",
        "smote = SMOTE(random_state=42)"
      ],
      "metadata": {
        "id": "wzumkc0VfJwC"
      },
      "execution_count": null,
      "outputs": []
    },
    {
      "cell_type": "markdown",
      "source": [
        "Feature Engineering"
      ],
      "metadata": {
        "id": "wWCLjXPa4cSm"
      }
    },
    {
      "cell_type": "code",
      "source": [
        "# --------------------------------------------\n",
        "# 4. Feature Engineering\n",
        "# --------------------------------------------\n",
        "\n",
        "# Define feature columns\n",
        "utterance_col = 'Utterance'\n",
        "dialog_act_col = 'Dialogue_Act'  # Replace with your actual column name\n",
        "type_col = 'Type'              # Replace with your actual column name\n",
        "\n",
        "# Separate features and target\n",
        "X = new_df[[utterance_col, dialog_act_col, type_col]]\n",
        "y = new_df[target_column]\n",
        "\n",
        "\n",
        "\n"
      ],
      "metadata": {
        "id": "J0lnLSOI0lFM"
      },
      "execution_count": null,
      "outputs": []
    },
    {
      "cell_type": "code",
      "source": [
        "# Step 1: Convert boolean values to strings explicitly\n",
        "X[utterance_col] = X[utterance_col].apply(lambda x: str(x) if isinstance(x, bool) else x)\n",
        "\n",
        "# Step 2: Convert the entire utterance column to string to avoid any errors\n",
        "X[utterance_col] = X[utterance_col].astype(str)"
      ],
      "metadata": {
        "id": "7IRSLoiC0lHY"
      },
      "execution_count": null,
      "outputs": []
    },
    {
      "cell_type": "markdown",
      "source": [
        "Train-Test-Split"
      ],
      "metadata": {
        "id": "XZ01-Bfz4fhM"
      }
    },
    {
      "cell_type": "code",
      "source": [
        "# Split into training and testing sets (80-20 split)\n",
        "X_train, X_test, y_train, y_test = train_test_split(X, y, test_size=0.2,\n",
        "                                                    random_state=42, stratify=y)"
      ],
      "metadata": {
        "id": "vcbXmFDx0lKx"
      },
      "execution_count": null,
      "outputs": []
    },
    {
      "cell_type": "markdown",
      "source": [
        "Building the Preprocessing Pipeline"
      ],
      "metadata": {
        "id": "IF2M-UF24iiF"
      }
    },
    {
      "cell_type": "code",
      "source": [
        "# One-Hot Encoding for categorical features\n",
        "categorical_features = [dialog_act_col, type_col]\n",
        "categorical_transformer = OneHotEncoder(handle_unknown='ignore')"
      ],
      "metadata": {
        "id": "znLuZ5CO1B_B"
      },
      "execution_count": null,
      "outputs": []
    },
    {
      "cell_type": "code",
      "source": [
        "# TF-IDF Vectorization for text data\n",
        "text_features = utterance_col\n",
        "text_transformer = TfidfVectorizer(max_features=5000, ngram_range=(1,2))"
      ],
      "metadata": {
        "id": "B7YehwIC1CBL"
      },
      "execution_count": null,
      "outputs": []
    },
    {
      "cell_type": "code",
      "source": [
        "# Combine transformations using ColumnTransformer\n",
        "preprocessor = ColumnTransformer(\n",
        "    transformers=[\n",
        "        ('text', text_transformer, text_features),\n",
        "        ('cat', categorical_transformer, categorical_features)\n",
        "    ])"
      ],
      "metadata": {
        "id": "pzQqBiC31CDX"
      },
      "execution_count": null,
      "outputs": []
    },
    {
      "cell_type": "markdown",
      "source": [
        "Building the Pipeline with Logistic Regression"
      ],
      "metadata": {
        "id": "W7YcP9hz4mMJ"
      }
    },
    {
      "cell_type": "code",
      "source": [
        "# Initialize Logistic Regression with class weights\n",
        "log_reg = LogisticRegression(class_weight=class_weight_dict,\n",
        "                             solver='liblinear',\n",
        "                             max_iter=1000,\n",
        "                             random_state=42)\n",
        "\n",
        "# Create a pipeline that first preprocesses the data and then applies the classifier\n",
        "pipeline = Pipeline(steps=[\n",
        "    ('preprocessor', preprocessor),\n",
        "    ('smote', smote),\n",
        "    ('classifier', log_reg)\n",
        "])"
      ],
      "metadata": {
        "id": "ZGcJHpy31CG7"
      },
      "execution_count": null,
      "outputs": []
    },
    {
      "cell_type": "markdown",
      "source": [
        "Hyperparameter Tuning using GridSearchCV"
      ],
      "metadata": {
        "id": "4yCyWon44pKL"
      }
    },
    {
      "cell_type": "code",
      "source": [
        "# Define hyperparameter grid\n",
        "param_grid = {\n",
        "    'classifier__C': [0.01, 0.1, 1, 10, 100],\n",
        "    'classifier__penalty': ['l1', 'l2']\n",
        "}\n",
        "\n",
        "# Initialize GridSearchCV\n",
        "grid_search = GridSearchCV(pipeline, param_grid,\n",
        "                           cv=5,\n",
        "                           scoring='f1_macro',\n",
        "                           n_jobs=-1,\n",
        "                           verbose=1)\n",
        "\n",
        "# Fit GridSearchCV\n",
        "print(\"\\nStarting Hyperparameter Tuning...\")\n",
        "grid_search.fit(X_train, y_train)\n",
        "print(\"Best Parameters:\", grid_search.best_params_)\n",
        "print(\"Best CV Score:\", grid_search.best_score_)"
      ],
      "metadata": {
        "colab": {
          "base_uri": "https://localhost:8080/"
        },
        "id": "ArrD941u1Kst",
        "outputId": "b09b4f2d-0d22-48cb-959d-5a45a5340863"
      },
      "execution_count": null,
      "outputs": [
        {
          "output_type": "stream",
          "name": "stdout",
          "text": [
            "\n",
            "Starting Hyperparameter Tuning...\n",
            "Fitting 5 folds for each of 10 candidates, totalling 50 fits\n",
            "Best Parameters: {'classifier__C': 10, 'classifier__penalty': 'l1'}\n",
            "Best CV Score: 0.5783905315435491\n"
          ]
        }
      ]
    },
    {
      "cell_type": "markdown",
      "source": [
        "Training the Final Model"
      ],
      "metadata": {
        "id": "3Z_ps8FP4uLc"
      }
    },
    {
      "cell_type": "code",
      "source": [
        "# Retrieve the best estimator\n",
        "best_model = grid_search.best_estimator_\n",
        "\n",
        "# Fit the best model on the entire training data\n",
        "best_model.fit(X_train, y_train)"
      ],
      "metadata": {
        "colab": {
          "base_uri": "https://localhost:8080/",
          "height": 218
        },
        "id": "Gxj1baJ31KwI",
        "outputId": "028a780d-f681-42ab-a588-8db1460e2c75"
      },
      "execution_count": null,
      "outputs": [
        {
          "output_type": "execute_result",
          "data": {
            "text/plain": [
              "Pipeline(steps=[('preprocessor',\n",
              "                 ColumnTransformer(transformers=[('text',\n",
              "                                                  TfidfVectorizer(max_features=5000,\n",
              "                                                                  ngram_range=(1,\n",
              "                                                                               2)),\n",
              "                                                  'Utterance'),\n",
              "                                                 ('cat',\n",
              "                                                  OneHotEncoder(handle_unknown='ignore'),\n",
              "                                                  ['Dialogue_Act', 'Type'])])),\n",
              "                ('classifier',\n",
              "                 LogisticRegression(C=10,\n",
              "                                    class_weight={-1: 1.6345794392523365,\n",
              "                                                  0: 0.4267935578330893,\n",
              "                                                  1: 22.139240506329113},\n",
              "                                    max_iter=1000, penalty='l1',\n",
              "                                    random_state=42, solver='liblinear'))])"
            ],
            "text/html": [
              "<style>#sk-container-id-1 {\n",
              "  /* Definition of color scheme common for light and dark mode */\n",
              "  --sklearn-color-text: black;\n",
              "  --sklearn-color-line: gray;\n",
              "  /* Definition of color scheme for unfitted estimators */\n",
              "  --sklearn-color-unfitted-level-0: #fff5e6;\n",
              "  --sklearn-color-unfitted-level-1: #f6e4d2;\n",
              "  --sklearn-color-unfitted-level-2: #ffe0b3;\n",
              "  --sklearn-color-unfitted-level-3: chocolate;\n",
              "  /* Definition of color scheme for fitted estimators */\n",
              "  --sklearn-color-fitted-level-0: #f0f8ff;\n",
              "  --sklearn-color-fitted-level-1: #d4ebff;\n",
              "  --sklearn-color-fitted-level-2: #b3dbfd;\n",
              "  --sklearn-color-fitted-level-3: cornflowerblue;\n",
              "\n",
              "  /* Specific color for light theme */\n",
              "  --sklearn-color-text-on-default-background: var(--sg-text-color, var(--theme-code-foreground, var(--jp-content-font-color1, black)));\n",
              "  --sklearn-color-background: var(--sg-background-color, var(--theme-background, var(--jp-layout-color0, white)));\n",
              "  --sklearn-color-border-box: var(--sg-text-color, var(--theme-code-foreground, var(--jp-content-font-color1, black)));\n",
              "  --sklearn-color-icon: #696969;\n",
              "\n",
              "  @media (prefers-color-scheme: dark) {\n",
              "    /* Redefinition of color scheme for dark theme */\n",
              "    --sklearn-color-text-on-default-background: var(--sg-text-color, var(--theme-code-foreground, var(--jp-content-font-color1, white)));\n",
              "    --sklearn-color-background: var(--sg-background-color, var(--theme-background, var(--jp-layout-color0, #111)));\n",
              "    --sklearn-color-border-box: var(--sg-text-color, var(--theme-code-foreground, var(--jp-content-font-color1, white)));\n",
              "    --sklearn-color-icon: #878787;\n",
              "  }\n",
              "}\n",
              "\n",
              "#sk-container-id-1 {\n",
              "  color: var(--sklearn-color-text);\n",
              "}\n",
              "\n",
              "#sk-container-id-1 pre {\n",
              "  padding: 0;\n",
              "}\n",
              "\n",
              "#sk-container-id-1 input.sk-hidden--visually {\n",
              "  border: 0;\n",
              "  clip: rect(1px 1px 1px 1px);\n",
              "  clip: rect(1px, 1px, 1px, 1px);\n",
              "  height: 1px;\n",
              "  margin: -1px;\n",
              "  overflow: hidden;\n",
              "  padding: 0;\n",
              "  position: absolute;\n",
              "  width: 1px;\n",
              "}\n",
              "\n",
              "#sk-container-id-1 div.sk-dashed-wrapped {\n",
              "  border: 1px dashed var(--sklearn-color-line);\n",
              "  margin: 0 0.4em 0.5em 0.4em;\n",
              "  box-sizing: border-box;\n",
              "  padding-bottom: 0.4em;\n",
              "  background-color: var(--sklearn-color-background);\n",
              "}\n",
              "\n",
              "#sk-container-id-1 div.sk-container {\n",
              "  /* jupyter's `normalize.less` sets `[hidden] { display: none; }`\n",
              "     but bootstrap.min.css set `[hidden] { display: none !important; }`\n",
              "     so we also need the `!important` here to be able to override the\n",
              "     default hidden behavior on the sphinx rendered scikit-learn.org.\n",
              "     See: https://github.com/scikit-learn/scikit-learn/issues/21755 */\n",
              "  display: inline-block !important;\n",
              "  position: relative;\n",
              "}\n",
              "\n",
              "#sk-container-id-1 div.sk-text-repr-fallback {\n",
              "  display: none;\n",
              "}\n",
              "\n",
              "div.sk-parallel-item,\n",
              "div.sk-serial,\n",
              "div.sk-item {\n",
              "  /* draw centered vertical line to link estimators */\n",
              "  background-image: linear-gradient(var(--sklearn-color-text-on-default-background), var(--sklearn-color-text-on-default-background));\n",
              "  background-size: 2px 100%;\n",
              "  background-repeat: no-repeat;\n",
              "  background-position: center center;\n",
              "}\n",
              "\n",
              "/* Parallel-specific style estimator block */\n",
              "\n",
              "#sk-container-id-1 div.sk-parallel-item::after {\n",
              "  content: \"\";\n",
              "  width: 100%;\n",
              "  border-bottom: 2px solid var(--sklearn-color-text-on-default-background);\n",
              "  flex-grow: 1;\n",
              "}\n",
              "\n",
              "#sk-container-id-1 div.sk-parallel {\n",
              "  display: flex;\n",
              "  align-items: stretch;\n",
              "  justify-content: center;\n",
              "  background-color: var(--sklearn-color-background);\n",
              "  position: relative;\n",
              "}\n",
              "\n",
              "#sk-container-id-1 div.sk-parallel-item {\n",
              "  display: flex;\n",
              "  flex-direction: column;\n",
              "}\n",
              "\n",
              "#sk-container-id-1 div.sk-parallel-item:first-child::after {\n",
              "  align-self: flex-end;\n",
              "  width: 50%;\n",
              "}\n",
              "\n",
              "#sk-container-id-1 div.sk-parallel-item:last-child::after {\n",
              "  align-self: flex-start;\n",
              "  width: 50%;\n",
              "}\n",
              "\n",
              "#sk-container-id-1 div.sk-parallel-item:only-child::after {\n",
              "  width: 0;\n",
              "}\n",
              "\n",
              "/* Serial-specific style estimator block */\n",
              "\n",
              "#sk-container-id-1 div.sk-serial {\n",
              "  display: flex;\n",
              "  flex-direction: column;\n",
              "  align-items: center;\n",
              "  background-color: var(--sklearn-color-background);\n",
              "  padding-right: 1em;\n",
              "  padding-left: 1em;\n",
              "}\n",
              "\n",
              "\n",
              "/* Toggleable style: style used for estimator/Pipeline/ColumnTransformer box that is\n",
              "clickable and can be expanded/collapsed.\n",
              "- Pipeline and ColumnTransformer use this feature and define the default style\n",
              "- Estimators will overwrite some part of the style using the `sk-estimator` class\n",
              "*/\n",
              "\n",
              "/* Pipeline and ColumnTransformer style (default) */\n",
              "\n",
              "#sk-container-id-1 div.sk-toggleable {\n",
              "  /* Default theme specific background. It is overwritten whether we have a\n",
              "  specific estimator or a Pipeline/ColumnTransformer */\n",
              "  background-color: var(--sklearn-color-background);\n",
              "}\n",
              "\n",
              "/* Toggleable label */\n",
              "#sk-container-id-1 label.sk-toggleable__label {\n",
              "  cursor: pointer;\n",
              "  display: block;\n",
              "  width: 100%;\n",
              "  margin-bottom: 0;\n",
              "  padding: 0.5em;\n",
              "  box-sizing: border-box;\n",
              "  text-align: center;\n",
              "}\n",
              "\n",
              "#sk-container-id-1 label.sk-toggleable__label-arrow:before {\n",
              "  /* Arrow on the left of the label */\n",
              "  content: \"▸\";\n",
              "  float: left;\n",
              "  margin-right: 0.25em;\n",
              "  color: var(--sklearn-color-icon);\n",
              "}\n",
              "\n",
              "#sk-container-id-1 label.sk-toggleable__label-arrow:hover:before {\n",
              "  color: var(--sklearn-color-text);\n",
              "}\n",
              "\n",
              "/* Toggleable content - dropdown */\n",
              "\n",
              "#sk-container-id-1 div.sk-toggleable__content {\n",
              "  max-height: 0;\n",
              "  max-width: 0;\n",
              "  overflow: hidden;\n",
              "  text-align: left;\n",
              "  /* unfitted */\n",
              "  background-color: var(--sklearn-color-unfitted-level-0);\n",
              "}\n",
              "\n",
              "#sk-container-id-1 div.sk-toggleable__content.fitted {\n",
              "  /* fitted */\n",
              "  background-color: var(--sklearn-color-fitted-level-0);\n",
              "}\n",
              "\n",
              "#sk-container-id-1 div.sk-toggleable__content pre {\n",
              "  margin: 0.2em;\n",
              "  border-radius: 0.25em;\n",
              "  color: var(--sklearn-color-text);\n",
              "  /* unfitted */\n",
              "  background-color: var(--sklearn-color-unfitted-level-0);\n",
              "}\n",
              "\n",
              "#sk-container-id-1 div.sk-toggleable__content.fitted pre {\n",
              "  /* unfitted */\n",
              "  background-color: var(--sklearn-color-fitted-level-0);\n",
              "}\n",
              "\n",
              "#sk-container-id-1 input.sk-toggleable__control:checked~div.sk-toggleable__content {\n",
              "  /* Expand drop-down */\n",
              "  max-height: 200px;\n",
              "  max-width: 100%;\n",
              "  overflow: auto;\n",
              "}\n",
              "\n",
              "#sk-container-id-1 input.sk-toggleable__control:checked~label.sk-toggleable__label-arrow:before {\n",
              "  content: \"▾\";\n",
              "}\n",
              "\n",
              "/* Pipeline/ColumnTransformer-specific style */\n",
              "\n",
              "#sk-container-id-1 div.sk-label input.sk-toggleable__control:checked~label.sk-toggleable__label {\n",
              "  color: var(--sklearn-color-text);\n",
              "  background-color: var(--sklearn-color-unfitted-level-2);\n",
              "}\n",
              "\n",
              "#sk-container-id-1 div.sk-label.fitted input.sk-toggleable__control:checked~label.sk-toggleable__label {\n",
              "  background-color: var(--sklearn-color-fitted-level-2);\n",
              "}\n",
              "\n",
              "/* Estimator-specific style */\n",
              "\n",
              "/* Colorize estimator box */\n",
              "#sk-container-id-1 div.sk-estimator input.sk-toggleable__control:checked~label.sk-toggleable__label {\n",
              "  /* unfitted */\n",
              "  background-color: var(--sklearn-color-unfitted-level-2);\n",
              "}\n",
              "\n",
              "#sk-container-id-1 div.sk-estimator.fitted input.sk-toggleable__control:checked~label.sk-toggleable__label {\n",
              "  /* fitted */\n",
              "  background-color: var(--sklearn-color-fitted-level-2);\n",
              "}\n",
              "\n",
              "#sk-container-id-1 div.sk-label label.sk-toggleable__label,\n",
              "#sk-container-id-1 div.sk-label label {\n",
              "  /* The background is the default theme color */\n",
              "  color: var(--sklearn-color-text-on-default-background);\n",
              "}\n",
              "\n",
              "/* On hover, darken the color of the background */\n",
              "#sk-container-id-1 div.sk-label:hover label.sk-toggleable__label {\n",
              "  color: var(--sklearn-color-text);\n",
              "  background-color: var(--sklearn-color-unfitted-level-2);\n",
              "}\n",
              "\n",
              "/* Label box, darken color on hover, fitted */\n",
              "#sk-container-id-1 div.sk-label.fitted:hover label.sk-toggleable__label.fitted {\n",
              "  color: var(--sklearn-color-text);\n",
              "  background-color: var(--sklearn-color-fitted-level-2);\n",
              "}\n",
              "\n",
              "/* Estimator label */\n",
              "\n",
              "#sk-container-id-1 div.sk-label label {\n",
              "  font-family: monospace;\n",
              "  font-weight: bold;\n",
              "  display: inline-block;\n",
              "  line-height: 1.2em;\n",
              "}\n",
              "\n",
              "#sk-container-id-1 div.sk-label-container {\n",
              "  text-align: center;\n",
              "}\n",
              "\n",
              "/* Estimator-specific */\n",
              "#sk-container-id-1 div.sk-estimator {\n",
              "  font-family: monospace;\n",
              "  border: 1px dotted var(--sklearn-color-border-box);\n",
              "  border-radius: 0.25em;\n",
              "  box-sizing: border-box;\n",
              "  margin-bottom: 0.5em;\n",
              "  /* unfitted */\n",
              "  background-color: var(--sklearn-color-unfitted-level-0);\n",
              "}\n",
              "\n",
              "#sk-container-id-1 div.sk-estimator.fitted {\n",
              "  /* fitted */\n",
              "  background-color: var(--sklearn-color-fitted-level-0);\n",
              "}\n",
              "\n",
              "/* on hover */\n",
              "#sk-container-id-1 div.sk-estimator:hover {\n",
              "  /* unfitted */\n",
              "  background-color: var(--sklearn-color-unfitted-level-2);\n",
              "}\n",
              "\n",
              "#sk-container-id-1 div.sk-estimator.fitted:hover {\n",
              "  /* fitted */\n",
              "  background-color: var(--sklearn-color-fitted-level-2);\n",
              "}\n",
              "\n",
              "/* Specification for estimator info (e.g. \"i\" and \"?\") */\n",
              "\n",
              "/* Common style for \"i\" and \"?\" */\n",
              "\n",
              ".sk-estimator-doc-link,\n",
              "a:link.sk-estimator-doc-link,\n",
              "a:visited.sk-estimator-doc-link {\n",
              "  float: right;\n",
              "  font-size: smaller;\n",
              "  line-height: 1em;\n",
              "  font-family: monospace;\n",
              "  background-color: var(--sklearn-color-background);\n",
              "  border-radius: 1em;\n",
              "  height: 1em;\n",
              "  width: 1em;\n",
              "  text-decoration: none !important;\n",
              "  margin-left: 1ex;\n",
              "  /* unfitted */\n",
              "  border: var(--sklearn-color-unfitted-level-1) 1pt solid;\n",
              "  color: var(--sklearn-color-unfitted-level-1);\n",
              "}\n",
              "\n",
              ".sk-estimator-doc-link.fitted,\n",
              "a:link.sk-estimator-doc-link.fitted,\n",
              "a:visited.sk-estimator-doc-link.fitted {\n",
              "  /* fitted */\n",
              "  border: var(--sklearn-color-fitted-level-1) 1pt solid;\n",
              "  color: var(--sklearn-color-fitted-level-1);\n",
              "}\n",
              "\n",
              "/* On hover */\n",
              "div.sk-estimator:hover .sk-estimator-doc-link:hover,\n",
              ".sk-estimator-doc-link:hover,\n",
              "div.sk-label-container:hover .sk-estimator-doc-link:hover,\n",
              ".sk-estimator-doc-link:hover {\n",
              "  /* unfitted */\n",
              "  background-color: var(--sklearn-color-unfitted-level-3);\n",
              "  color: var(--sklearn-color-background);\n",
              "  text-decoration: none;\n",
              "}\n",
              "\n",
              "div.sk-estimator.fitted:hover .sk-estimator-doc-link.fitted:hover,\n",
              ".sk-estimator-doc-link.fitted:hover,\n",
              "div.sk-label-container:hover .sk-estimator-doc-link.fitted:hover,\n",
              ".sk-estimator-doc-link.fitted:hover {\n",
              "  /* fitted */\n",
              "  background-color: var(--sklearn-color-fitted-level-3);\n",
              "  color: var(--sklearn-color-background);\n",
              "  text-decoration: none;\n",
              "}\n",
              "\n",
              "/* Span, style for the box shown on hovering the info icon */\n",
              ".sk-estimator-doc-link span {\n",
              "  display: none;\n",
              "  z-index: 9999;\n",
              "  position: relative;\n",
              "  font-weight: normal;\n",
              "  right: .2ex;\n",
              "  padding: .5ex;\n",
              "  margin: .5ex;\n",
              "  width: min-content;\n",
              "  min-width: 20ex;\n",
              "  max-width: 50ex;\n",
              "  color: var(--sklearn-color-text);\n",
              "  box-shadow: 2pt 2pt 4pt #999;\n",
              "  /* unfitted */\n",
              "  background: var(--sklearn-color-unfitted-level-0);\n",
              "  border: .5pt solid var(--sklearn-color-unfitted-level-3);\n",
              "}\n",
              "\n",
              ".sk-estimator-doc-link.fitted span {\n",
              "  /* fitted */\n",
              "  background: var(--sklearn-color-fitted-level-0);\n",
              "  border: var(--sklearn-color-fitted-level-3);\n",
              "}\n",
              "\n",
              ".sk-estimator-doc-link:hover span {\n",
              "  display: block;\n",
              "}\n",
              "\n",
              "/* \"?\"-specific style due to the `<a>` HTML tag */\n",
              "\n",
              "#sk-container-id-1 a.estimator_doc_link {\n",
              "  float: right;\n",
              "  font-size: 1rem;\n",
              "  line-height: 1em;\n",
              "  font-family: monospace;\n",
              "  background-color: var(--sklearn-color-background);\n",
              "  border-radius: 1rem;\n",
              "  height: 1rem;\n",
              "  width: 1rem;\n",
              "  text-decoration: none;\n",
              "  /* unfitted */\n",
              "  color: var(--sklearn-color-unfitted-level-1);\n",
              "  border: var(--sklearn-color-unfitted-level-1) 1pt solid;\n",
              "}\n",
              "\n",
              "#sk-container-id-1 a.estimator_doc_link.fitted {\n",
              "  /* fitted */\n",
              "  border: var(--sklearn-color-fitted-level-1) 1pt solid;\n",
              "  color: var(--sklearn-color-fitted-level-1);\n",
              "}\n",
              "\n",
              "/* On hover */\n",
              "#sk-container-id-1 a.estimator_doc_link:hover {\n",
              "  /* unfitted */\n",
              "  background-color: var(--sklearn-color-unfitted-level-3);\n",
              "  color: var(--sklearn-color-background);\n",
              "  text-decoration: none;\n",
              "}\n",
              "\n",
              "#sk-container-id-1 a.estimator_doc_link.fitted:hover {\n",
              "  /* fitted */\n",
              "  background-color: var(--sklearn-color-fitted-level-3);\n",
              "}\n",
              "</style><div id=\"sk-container-id-1\" class=\"sk-top-container\"><div class=\"sk-text-repr-fallback\"><pre>Pipeline(steps=[(&#x27;preprocessor&#x27;,\n",
              "                 ColumnTransformer(transformers=[(&#x27;text&#x27;,\n",
              "                                                  TfidfVectorizer(max_features=5000,\n",
              "                                                                  ngram_range=(1,\n",
              "                                                                               2)),\n",
              "                                                  &#x27;Utterance&#x27;),\n",
              "                                                 (&#x27;cat&#x27;,\n",
              "                                                  OneHotEncoder(handle_unknown=&#x27;ignore&#x27;),\n",
              "                                                  [&#x27;Dialogue_Act&#x27;, &#x27;Type&#x27;])])),\n",
              "                (&#x27;classifier&#x27;,\n",
              "                 LogisticRegression(C=10,\n",
              "                                    class_weight={-1: 1.6345794392523365,\n",
              "                                                  0: 0.4267935578330893,\n",
              "                                                  1: 22.139240506329113},\n",
              "                                    max_iter=1000, penalty=&#x27;l1&#x27;,\n",
              "                                    random_state=42, solver=&#x27;liblinear&#x27;))])</pre><b>In a Jupyter environment, please rerun this cell to show the HTML representation or trust the notebook. <br />On GitHub, the HTML representation is unable to render, please try loading this page with nbviewer.org.</b></div><div class=\"sk-container\" hidden><div class=\"sk-item sk-dashed-wrapped\"><div class=\"sk-label-container\"><div class=\"sk-label fitted sk-toggleable\"><input class=\"sk-toggleable__control sk-hidden--visually\" id=\"sk-estimator-id-1\" type=\"checkbox\" ><label for=\"sk-estimator-id-1\" class=\"sk-toggleable__label fitted sk-toggleable__label-arrow fitted\">&nbsp;&nbsp;Pipeline<a class=\"sk-estimator-doc-link fitted\" rel=\"noreferrer\" target=\"_blank\" href=\"https://scikit-learn.org/1.5/modules/generated/sklearn.pipeline.Pipeline.html\">?<span>Documentation for Pipeline</span></a><span class=\"sk-estimator-doc-link fitted\">i<span>Fitted</span></span></label><div class=\"sk-toggleable__content fitted\"><pre>Pipeline(steps=[(&#x27;preprocessor&#x27;,\n",
              "                 ColumnTransformer(transformers=[(&#x27;text&#x27;,\n",
              "                                                  TfidfVectorizer(max_features=5000,\n",
              "                                                                  ngram_range=(1,\n",
              "                                                                               2)),\n",
              "                                                  &#x27;Utterance&#x27;),\n",
              "                                                 (&#x27;cat&#x27;,\n",
              "                                                  OneHotEncoder(handle_unknown=&#x27;ignore&#x27;),\n",
              "                                                  [&#x27;Dialogue_Act&#x27;, &#x27;Type&#x27;])])),\n",
              "                (&#x27;classifier&#x27;,\n",
              "                 LogisticRegression(C=10,\n",
              "                                    class_weight={-1: 1.6345794392523365,\n",
              "                                                  0: 0.4267935578330893,\n",
              "                                                  1: 22.139240506329113},\n",
              "                                    max_iter=1000, penalty=&#x27;l1&#x27;,\n",
              "                                    random_state=42, solver=&#x27;liblinear&#x27;))])</pre></div> </div></div><div class=\"sk-serial\"><div class=\"sk-item sk-dashed-wrapped\"><div class=\"sk-label-container\"><div class=\"sk-label fitted sk-toggleable\"><input class=\"sk-toggleable__control sk-hidden--visually\" id=\"sk-estimator-id-2\" type=\"checkbox\" ><label for=\"sk-estimator-id-2\" class=\"sk-toggleable__label fitted sk-toggleable__label-arrow fitted\">&nbsp;preprocessor: ColumnTransformer<a class=\"sk-estimator-doc-link fitted\" rel=\"noreferrer\" target=\"_blank\" href=\"https://scikit-learn.org/1.5/modules/generated/sklearn.compose.ColumnTransformer.html\">?<span>Documentation for preprocessor: ColumnTransformer</span></a></label><div class=\"sk-toggleable__content fitted\"><pre>ColumnTransformer(transformers=[(&#x27;text&#x27;,\n",
              "                                 TfidfVectorizer(max_features=5000,\n",
              "                                                 ngram_range=(1, 2)),\n",
              "                                 &#x27;Utterance&#x27;),\n",
              "                                (&#x27;cat&#x27;, OneHotEncoder(handle_unknown=&#x27;ignore&#x27;),\n",
              "                                 [&#x27;Dialogue_Act&#x27;, &#x27;Type&#x27;])])</pre></div> </div></div><div class=\"sk-parallel\"><div class=\"sk-parallel-item\"><div class=\"sk-item\"><div class=\"sk-label-container\"><div class=\"sk-label fitted sk-toggleable\"><input class=\"sk-toggleable__control sk-hidden--visually\" id=\"sk-estimator-id-3\" type=\"checkbox\" ><label for=\"sk-estimator-id-3\" class=\"sk-toggleable__label fitted sk-toggleable__label-arrow fitted\">text</label><div class=\"sk-toggleable__content fitted\"><pre>Utterance</pre></div> </div></div><div class=\"sk-serial\"><div class=\"sk-item\"><div class=\"sk-estimator fitted sk-toggleable\"><input class=\"sk-toggleable__control sk-hidden--visually\" id=\"sk-estimator-id-4\" type=\"checkbox\" ><label for=\"sk-estimator-id-4\" class=\"sk-toggleable__label fitted sk-toggleable__label-arrow fitted\">&nbsp;TfidfVectorizer<a class=\"sk-estimator-doc-link fitted\" rel=\"noreferrer\" target=\"_blank\" href=\"https://scikit-learn.org/1.5/modules/generated/sklearn.feature_extraction.text.TfidfVectorizer.html\">?<span>Documentation for TfidfVectorizer</span></a></label><div class=\"sk-toggleable__content fitted\"><pre>TfidfVectorizer(max_features=5000, ngram_range=(1, 2))</pre></div> </div></div></div></div></div><div class=\"sk-parallel-item\"><div class=\"sk-item\"><div class=\"sk-label-container\"><div class=\"sk-label fitted sk-toggleable\"><input class=\"sk-toggleable__control sk-hidden--visually\" id=\"sk-estimator-id-5\" type=\"checkbox\" ><label for=\"sk-estimator-id-5\" class=\"sk-toggleable__label fitted sk-toggleable__label-arrow fitted\">cat</label><div class=\"sk-toggleable__content fitted\"><pre>[&#x27;Dialogue_Act&#x27;, &#x27;Type&#x27;]</pre></div> </div></div><div class=\"sk-serial\"><div class=\"sk-item\"><div class=\"sk-estimator fitted sk-toggleable\"><input class=\"sk-toggleable__control sk-hidden--visually\" id=\"sk-estimator-id-6\" type=\"checkbox\" ><label for=\"sk-estimator-id-6\" class=\"sk-toggleable__label fitted sk-toggleable__label-arrow fitted\">&nbsp;OneHotEncoder<a class=\"sk-estimator-doc-link fitted\" rel=\"noreferrer\" target=\"_blank\" href=\"https://scikit-learn.org/1.5/modules/generated/sklearn.preprocessing.OneHotEncoder.html\">?<span>Documentation for OneHotEncoder</span></a></label><div class=\"sk-toggleable__content fitted\"><pre>OneHotEncoder(handle_unknown=&#x27;ignore&#x27;)</pre></div> </div></div></div></div></div></div></div><div class=\"sk-item\"><div class=\"sk-estimator fitted sk-toggleable\"><input class=\"sk-toggleable__control sk-hidden--visually\" id=\"sk-estimator-id-7\" type=\"checkbox\" ><label for=\"sk-estimator-id-7\" class=\"sk-toggleable__label fitted sk-toggleable__label-arrow fitted\">&nbsp;LogisticRegression<a class=\"sk-estimator-doc-link fitted\" rel=\"noreferrer\" target=\"_blank\" href=\"https://scikit-learn.org/1.5/modules/generated/sklearn.linear_model.LogisticRegression.html\">?<span>Documentation for LogisticRegression</span></a></label><div class=\"sk-toggleable__content fitted\"><pre>LogisticRegression(C=10,\n",
              "                   class_weight={-1: 1.6345794392523365, 0: 0.4267935578330893,\n",
              "                                 1: 22.139240506329113},\n",
              "                   max_iter=1000, penalty=&#x27;l1&#x27;, random_state=42,\n",
              "                   solver=&#x27;liblinear&#x27;)</pre></div> </div></div></div></div></div></div>"
            ]
          },
          "metadata": {},
          "execution_count": 14
        }
      ]
    },
    {
      "cell_type": "markdown",
      "source": [
        "Evaluating the Model"
      ],
      "metadata": {
        "id": "OwMWtzyb4x8d"
      }
    },
    {
      "cell_type": "code",
      "source": [
        "# Predict on the test set\n",
        "y_pred = best_model.predict(X_test)\n",
        "\n",
        "# Calculate evaluation metrics\n",
        "accuracy = accuracy_score(y_test, y_pred)\n",
        "precision = precision_score(y_test, y_pred, average='macro', zero_division=0)\n",
        "recall = recall_score(y_test, y_pred, average='macro', zero_division=0)\n",
        "f1 = f1_score(y_test, y_pred, average='macro', zero_division=0)\n",
        "\n",
        "print(\"\\nModel Evaluation Metrics:\")\n",
        "print(f\"Accuracy : {accuracy:.4f}\")\n",
        "print(f\"Precision: {precision:.4f}\")\n",
        "print(f\"Recall   : {recall:.4f}\")\n",
        "print(f\"F1-Score : {f1:.4f}\")"
      ],
      "metadata": {
        "colab": {
          "base_uri": "https://localhost:8080/"
        },
        "id": "LGzGQcKn1PGd",
        "outputId": "8aa6e010-22cc-4012-b680-2b05477199f7"
      },
      "execution_count": null,
      "outputs": [
        {
          "output_type": "stream",
          "name": "stdout",
          "text": [
            "\n",
            "Model Evaluation Metrics:\n",
            "Accuracy : 0.8467\n",
            "Precision: 0.5617\n",
            "Recall   : 0.5418\n",
            "F1-Score : 0.5483\n"
          ]
        }
      ]
    },
    {
      "cell_type": "code",
      "source": [
        "# Detailed classification report\n",
        "print(\"\\nClassification Report:\")\n",
        "print(classification_report(y_test, y_pred, zero_division=0))\n",
        "\n",
        "# Confusion Matrix\n",
        "print(\"Confusion Matrix:\")\n",
        "print(confusion_matrix(y_test, y_pred))"
      ],
      "metadata": {
        "colab": {
          "base_uri": "https://localhost:8080/"
        },
        "id": "JG6B32zR1PKC",
        "outputId": "7c74c5b2-fe13-4f0c-d046-ebde1e4c884b"
      },
      "execution_count": null,
      "outputs": [
        {
          "output_type": "stream",
          "name": "stdout",
          "text": [
            "\n",
            "Classification Report:\n",
            "              precision    recall  f1-score   support\n",
            "\n",
            "          -1       0.66      0.65      0.65       214\n",
            "           0       0.90      0.91      0.91       820\n",
            "           1       0.12      0.06      0.08        16\n",
            "\n",
            "    accuracy                           0.85      1050\n",
            "   macro avg       0.56      0.54      0.55      1050\n",
            "weighted avg       0.84      0.85      0.84      1050\n",
            "\n",
            "Confusion Matrix:\n",
            "[[139  73   2]\n",
            " [ 66 749   5]\n",
            " [  6   9   1]]\n"
          ]
        }
      ]
    },
    {
      "cell_type": "markdown",
      "source": [
        "Creating DataFrame for Actual and Predicted Values"
      ],
      "metadata": {
        "id": "h8pKV-9c48gO"
      }
    },
    {
      "cell_type": "code",
      "source": [
        "\n",
        "# Reset index to align actual and predicted values\n",
        "X_test_reset = X_test.reset_index(drop=True)\n",
        "y_test_reset = y_test.reset_index(drop=True)\n",
        "y_pred_series = pd.Series(y_pred, name='Predicted')\n",
        "\n",
        "# Combine Utterance, Dialogue Act, Type, Actual, and Predicted columns into a DataFrame\n",
        "results_df = pd.concat([X_test_reset[utterance_col],\n",
        "                        X_test_reset[dialog_act_col],\n",
        "                        X_test_reset[type_col],\n",
        "                        y_test_reset.rename('Actual'),\n",
        "                        y_pred_series], axis=1)\n",
        "\n",
        "# Print the formatted Actual vs Predicted DataFrame\n",
        "print(\"\\nFormatted Actual vs Predicted DataFrame:\")\n",
        "print(results_df.tail(10))\n"
      ],
      "metadata": {
        "colab": {
          "base_uri": "https://localhost:8080/"
        },
        "id": "p-CJUsKm1jiv",
        "outputId": "0b3980bb-4d56-4f69-a390-2b2da55a8138"
      },
      "execution_count": null,
      "outputs": [
        {
          "output_type": "stream",
          "name": "stdout",
          "text": [
            "\n",
            "Formatted Actual vs Predicted DataFrame:\n",
            "                                              Utterance Dialogue_Act Type  \\\n",
            "1040  I mean, I guess I could tell myself like I can...           cr    P   \n",
            "1041                                               ....           cr    P   \n",
            "1042             yes or no. Are you on any medications?           gc    T   \n",
            "1043  Yeah. It makes sense. And, you know, when you ...           op    P   \n",
            "1044                        Ohh I'm sorry to hear that.           ap    T   \n",
            "1045  But if you know there's a a treatment team mee...           id    T   \n",
            "1046  Um, I it's just a, it's how I meet people. So ...           id    P   \n",
            "1047  Okay, let's look at it real quick. Bring it ov...           gc    T   \n",
            "1048  Maybe something natural exercise, oh, heavy en...           gc    P   \n",
            "1049  Okay, so you live with mom, dad and sister. wh...          ack    T   \n",
            "\n",
            "      Actual  Predicted  \n",
            "1040      -1         -1  \n",
            "1041       0          0  \n",
            "1042       0          0  \n",
            "1043       0          0  \n",
            "1044       0          0  \n",
            "1045       0          0  \n",
            "1046      -1         -1  \n",
            "1047       0          0  \n",
            "1048      -1         -1  \n",
            "1049       0          0  \n"
          ]
        }
      ]
    },
    {
      "cell_type": "markdown",
      "source": [
        "Creating DataFrame for Incorrect Predictions"
      ],
      "metadata": {
        "id": "P1lPXNSY5Sdn"
      }
    },
    {
      "cell_type": "code",
      "source": [
        "\n",
        "incorrect_predictions_df = results_df[results_df['Actual'] != results_df['Predicted']]\n",
        "print(\"\\nIncorrect Predictions DataFrame:\")\n",
        "print(incorrect_predictions_df.head())"
      ],
      "metadata": {
        "colab": {
          "base_uri": "https://localhost:8080/"
        },
        "id": "0oZVLTW41jlW",
        "outputId": "f94a3eff-bf0b-48f7-9fe3-e89640010884"
      },
      "execution_count": null,
      "outputs": [
        {
          "output_type": "stream",
          "name": "stdout",
          "text": [
            "\n",
            "Incorrect Predictions DataFrame:\n",
            "                                            Utterance Dialogue_Act Type  \\\n",
            "12  Exactly. Just so I take part with the social c...           cd    P   \n",
            "30  Well, I guess I think initially that I would n...           od    P   \n",
            "46  No, I guess I see what you're saying. I mean, ...           gc    P   \n",
            "51  start naming Skittles, cherry Starburst basica...           id    P   \n",
            "64  No, what has happened in previous online class...           on    P   \n",
            "\n",
            "    Actual  Predicted  \n",
            "12       0         -1  \n",
            "30       0         -1  \n",
            "46      -1          0  \n",
            "51      -1          0  \n",
            "64      -1          0  \n"
          ]
        }
      ]
    },
    {
      "cell_type": "markdown",
      "source": [
        "Making Predictions on New Samples"
      ],
      "metadata": {
        "id": "M1hBzL945XEW"
      }
    },
    {
      "cell_type": "code",
      "source": [
        "# Example new samples\n",
        "new_samples = pd.DataFrame({\n",
        "    'Utterance': [\n",
        "        \"I'm not sure yet. But I'm looking into schools like in the area, so maybe, I don't know, maybe I'll leave home or something.\",\n",
        "        \"What about at these parties are going to Are there other kids there who are drinking a lot?\"\n",
        "    ],\n",
        "    'Dialogue_Act': [\n",
        "        \"id\",    # Replace with actual dialog act labels\n",
        "        \"irq\"  # Replace with actual dialog act labels\n",
        "    ],\n",
        "    'Type': [\n",
        "        \"P\",        # Replace with actual type labels\n",
        "        \"T\"      # Replace with actual type labels\n",
        "    ]\n",
        "})\n",
        "\n",
        "# Predict emotions for new samples\n",
        "new_predictions = best_model.predict(new_samples)\n",
        "\n",
        "# Combine new samples with their predictions\n",
        "new_results = new_samples.copy()\n",
        "new_results['Predicted Emotion'] = new_predictions\n",
        "\n",
        "print(\"\\nNew Sample Predictions:\")\n",
        "print(new_results)"
      ],
      "metadata": {
        "colab": {
          "base_uri": "https://localhost:8080/"
        },
        "id": "LKLnF4Sk1jnv",
        "outputId": "f61e609d-4a9a-45a4-daaf-1e2dc96d7e52"
      },
      "execution_count": null,
      "outputs": [
        {
          "output_type": "stream",
          "name": "stdout",
          "text": [
            "\n",
            "New Sample Predictions:\n",
            "                                           Utterance Dialogue_Act Type  \\\n",
            "0  I'm not sure yet. But I'm looking into schools...           id    P   \n",
            "1  What about at these parties are going to Are t...          irq    T   \n",
            "\n",
            "   Predicted Emotion  \n",
            "0                  0  \n",
            "1                  0  \n"
          ]
        }
      ]
    },
    {
      "cell_type": "markdown",
      "source": [
        "Saving the Results"
      ],
      "metadata": {
        "id": "joaF8CER5aX1"
      }
    },
    {
      "cell_type": "code",
      "source": [
        "\n",
        "# Save actual vs predicted to CSV\n",
        "results_df.to_csv('actual_vs_predicted.csv', index=False)\n",
        "\n",
        "# Save incorrect predictions to CSV\n",
        "incorrect_predictions_df.to_csv('incorrect_predictions.csv', index=False)\n",
        "\n",
        "# Save new predictions to CSV\n",
        "new_results.to_csv('new_sample_predictions.csv', index=False)\n",
        "\n",
        "print(\"\\nResults have been saved to CSV files.\")"
      ],
      "metadata": {
        "colab": {
          "base_uri": "https://localhost:8080/"
        },
        "id": "GHs5hfDJ1jrH",
        "outputId": "43eb9c7d-727a-4288-eb6b-b11c31ff2a83"
      },
      "execution_count": null,
      "outputs": [
        {
          "output_type": "stream",
          "name": "stdout",
          "text": [
            "\n",
            "Results have been saved to CSV files.\n"
          ]
        }
      ]
    },
    {
      "cell_type": "markdown",
      "source": [
        " RandomForestClassifier"
      ],
      "metadata": {
        "id": "BTLWkyWR5b4-"
      }
    },
    {
      "cell_type": "code",
      "source": [
        "from sklearn.ensemble import RandomForestClassifier"
      ],
      "metadata": {
        "id": "97CVEq-u18v9"
      },
      "execution_count": null,
      "outputs": []
    },
    {
      "cell_type": "code",
      "source": [
        "# Initialize Random Forest Classifier with class weights\n",
        "rf_classifier = RandomForestClassifier(class_weight=class_weight_dict,\n",
        "                                        random_state=42)\n"
      ],
      "metadata": {
        "id": "_3JLOGYZ2uVr"
      },
      "execution_count": null,
      "outputs": []
    },
    {
      "cell_type": "code",
      "source": [
        "\n",
        "# Create a pipeline that first preprocesses the data and then applies the classifier\n",
        "pipeline = Pipeline(steps=[\n",
        "    ('preprocessor', preprocessor),\n",
        "    ('classifier', rf_classifier)\n",
        "])\n"
      ],
      "metadata": {
        "id": "tQedQBTv2_uj"
      },
      "execution_count": null,
      "outputs": []
    },
    {
      "cell_type": "code",
      "source": [
        "# Define hyperparameter grid\n",
        "param_grid = {\n",
        "    'classifier__n_estimators': [50, 100, 200],\n",
        "    'classifier__max_depth': [None, 10, 20, 30],\n",
        "    'classifier__min_samples_split': [2, 5, 10]\n",
        "}\n",
        "\n",
        "# Initialize GridSearchCV\n",
        "grid_search = GridSearchCV(pipeline, param_grid,\n",
        "                           cv=5,\n",
        "                           scoring='f1_macro',\n",
        "                           n_jobs=-1,\n",
        "                           verbose=1)\n",
        "\n",
        "# Fit GridSearchCV\n",
        "print(\"\\nStarting Hyperparameter Tuning...\")\n",
        "grid_search.fit(X_train, y_train)\n",
        "print(\"Best Parameters:\", grid_search.best_params_)\n",
        "print(\"Best CV Score:\", grid_search.best_score_)"
      ],
      "metadata": {
        "colab": {
          "base_uri": "https://localhost:8080/"
        },
        "id": "LYdLtceN3Csh",
        "outputId": "6c2d38a2-7902-4ae5-d4c6-8a062d8e6004"
      },
      "execution_count": null,
      "outputs": [
        {
          "output_type": "stream",
          "name": "stdout",
          "text": [
            "\n",
            "Starting Hyperparameter Tuning...\n",
            "Fitting 5 folds for each of 36 candidates, totalling 180 fits\n",
            "Best Parameters: {'classifier__max_depth': None, 'classifier__min_samples_split': 10, 'classifier__n_estimators': 200}\n",
            "Best CV Score: 0.5531352175219751\n"
          ]
        }
      ]
    },
    {
      "cell_type": "code",
      "source": [
        "# 8. Training the Final Model\n",
        "# --------------------------------------------\n",
        "\n",
        "# Retrieve the best estimator\n",
        "best_model = grid_search.best_estimator_\n",
        "\n",
        "# Fit the best model on the entire training data\n",
        "best_model.fit(X_train, y_train)\n",
        "\n",
        "# --------------------------------------------\n",
        "# 9. Evaluating the Model\n",
        "# --------------------------------------------\n",
        "\n",
        "# Predict on the test set\n",
        "y_pred = best_model.predict(X_test)"
      ],
      "metadata": {
        "id": "IXHnoOvL3Cv5"
      },
      "execution_count": null,
      "outputs": []
    },
    {
      "cell_type": "code",
      "source": [
        "\n",
        "# Calculate evaluation metrics\n",
        "accuracy = accuracy_score(y_test, y_pred)\n",
        "precision = precision_score(y_test, y_pred, average='macro', zero_division=0)\n",
        "recall = recall_score(y_test, y_pred, average='macro', zero_division=0)\n",
        "f1 = f1_score(y_test, y_pred, average='macro', zero_division=0)\n",
        "\n",
        "print(\"\\nModel Evaluation Metrics:\")\n",
        "print(f\"Accuracy : {accuracy:.4f}\")\n",
        "print(f\"Precision: {precision:.4f}\")\n",
        "print(f\"Recall   : {recall:.4f}\")\n",
        "print(f\"F1-Score : {f1:.4f}\")\n"
      ],
      "metadata": {
        "colab": {
          "base_uri": "https://localhost:8080/"
        },
        "id": "uRgXQZpH3GFr",
        "outputId": "d95ffb84-7c38-4bc6-b4cd-b5e549ba7081"
      },
      "execution_count": null,
      "outputs": [
        {
          "output_type": "stream",
          "name": "stdout",
          "text": [
            "\n",
            "Model Evaluation Metrics:\n",
            "Accuracy : 0.8714\n",
            "Precision: 0.5353\n",
            "Recall   : 0.5722\n",
            "F1-Score : 0.5512\n"
          ]
        }
      ]
    },
    {
      "cell_type": "code",
      "source": [
        "# Detailed classification report\n",
        "print(\"\\nClassification Report:\")\n",
        "print(classification_report(y_test, y_pred, zero_division=0))\n",
        "\n",
        "# Confusion Matrix\n",
        "print(\"Confusion Matrix:\")\n",
        "print(confusion_matrix(y_test, y_pred))"
      ],
      "metadata": {
        "colab": {
          "base_uri": "https://localhost:8080/"
        },
        "id": "_emH8ZVD3GJL",
        "outputId": "6cc959fe-279e-426f-fdb7-c1f384f12b41"
      },
      "execution_count": null,
      "outputs": [
        {
          "output_type": "stream",
          "name": "stdout",
          "text": [
            "\n",
            "Classification Report:\n",
            "              precision    recall  f1-score   support\n",
            "\n",
            "          -1       0.67      0.81      0.73       214\n",
            "           0       0.94      0.90      0.92       820\n",
            "           1       0.00      0.00      0.00        16\n",
            "\n",
            "    accuracy                           0.87      1050\n",
            "   macro avg       0.54      0.57      0.55      1050\n",
            "weighted avg       0.87      0.87      0.87      1050\n",
            "\n",
            "Confusion Matrix:\n",
            "[[174  40   0]\n",
            " [ 79 741   0]\n",
            " [  8   8   0]]\n"
          ]
        }
      ]
    },
    {
      "cell_type": "code",
      "source": [
        "# Creating DataFrame for Actual and Predicted Values"
      ],
      "metadata": {
        "id": "rn2y8tEZ5j-P"
      },
      "execution_count": null,
      "outputs": []
    },
    {
      "cell_type": "code",
      "source": [
        "\n",
        "# Reset index to align actual and predicted values\n",
        "X_test_reset = X_test.reset_index(drop=True)\n",
        "y_test_reset = y_test.reset_index(drop=True)\n",
        "y_pred_series = pd.Series(y_pred, name='Predicted')\n",
        "\n",
        "# Combine Utterance, Dialogue Act, Type, Actual, and Predicted columns into a DataFrame\n",
        "results_df = pd.concat([X_test_reset[utterance_col],\n",
        "                        X_test_reset[dialog_act_col],\n",
        "                        X_test_reset[type_col],\n",
        "                        y_test_reset.rename('Actual'),\n",
        "                        y_pred_series], axis=1)\n",
        "\n",
        "# Print the formatted Actual vs Predicted DataFrame\n",
        "print(\"\\nFormatted Actual vs Predicted DataFrame:\")\n",
        "print(results_df.tail(10))\n"
      ],
      "metadata": {
        "colab": {
          "base_uri": "https://localhost:8080/"
        },
        "id": "UH-_uB-r5rND",
        "outputId": "3b225246-b3f6-4366-8da5-def9a502f63f"
      },
      "execution_count": null,
      "outputs": [
        {
          "output_type": "stream",
          "name": "stdout",
          "text": [
            "\n",
            "Formatted Actual vs Predicted DataFrame:\n",
            "                                              Utterance Dialogue_Act Type  \\\n",
            "1040  I mean, I guess I could tell myself like I can...           cr    P   \n",
            "1041                                               ....           cr    P   \n",
            "1042             yes or no. Are you on any medications?           gc    T   \n",
            "1043  Yeah. It makes sense. And, you know, when you ...           op    P   \n",
            "1044                        Ohh I'm sorry to hear that.           ap    T   \n",
            "1045  But if you know there's a a treatment team mee...           id    T   \n",
            "1046  Um, I it's just a, it's how I meet people. So ...           id    P   \n",
            "1047  Okay, let's look at it real quick. Bring it ov...           gc    T   \n",
            "1048  Maybe something natural exercise, oh, heavy en...           gc    P   \n",
            "1049  Okay, so you live with mom, dad and sister. wh...          ack    T   \n",
            "\n",
            "      Actual  Predicted  \n",
            "1040      -1         -1  \n",
            "1041       0          0  \n",
            "1042       0          0  \n",
            "1043       0          0  \n",
            "1044       0          0  \n",
            "1045       0          0  \n",
            "1046      -1         -1  \n",
            "1047       0          0  \n",
            "1048      -1         -1  \n",
            "1049       0          0  \n"
          ]
        }
      ]
    },
    {
      "cell_type": "code",
      "source": [
        "# Example new samples\n",
        "new_samples = pd.DataFrame({\n",
        "    'Utterance': [\n",
        "        \"I'm not sure yet. But I'm looking into schools like in the area, so maybe, I don't know, maybe I'll leave home or something.\",\n",
        "        \"What about at these parties are going to Are there other kids there who are drinking a lot?\"\n",
        "    ],\n",
        "    'Dialogue_Act': [\n",
        "        \"id\",    # Replace with actual dialog act labels\n",
        "        \"irq\"  # Replace with actual dialog act labels\n",
        "    ],\n",
        "    'Type': [\n",
        "        \"P\",        # Replace with actual type labels\n",
        "        \"T\"      # Replace with actual type labels\n",
        "    ]\n",
        "})\n",
        "\n",
        "# Predict emotions for new samples\n",
        "new_predictions = best_model.predict(new_samples)\n",
        "\n",
        "# Combine new samples with their predictions\n",
        "new_results = new_samples.copy()\n",
        "new_results['Predicted Emotion'] = new_predictions\n",
        "\n",
        "print(\"\\nNew Sample Predictions:\")\n",
        "print(new_results)"
      ],
      "metadata": {
        "colab": {
          "base_uri": "https://localhost:8080/"
        },
        "id": "fCCkxPSp5rQk",
        "outputId": "c852da99-c3ae-4969-814f-15ba9457a8dd"
      },
      "execution_count": null,
      "outputs": [
        {
          "output_type": "stream",
          "name": "stdout",
          "text": [
            "\n",
            "New Sample Predictions:\n",
            "                                           Utterance Dialogue_Act Type  \\\n",
            "0  I'm not sure yet. But I'm looking into schools...           id    P   \n",
            "1  What about at these parties are going to Are t...          irq    T   \n",
            "\n",
            "   Predicted Emotion  \n",
            "0                  0  \n",
            "1                  0  \n"
          ]
        }
      ]
    },
    {
      "cell_type": "markdown",
      "source": [
        "XGBOOST Classifier"
      ],
      "metadata": {
        "id": "jMmQxXwA7Bz4"
      }
    },
    {
      "cell_type": "code",
      "source": [
        "# For modeling\n",
        "from xgboost import XGBClassifier\n"
      ],
      "metadata": {
        "id": "M_gSWBH_5wZr"
      },
      "execution_count": null,
      "outputs": []
    },
    {
      "cell_type": "code",
      "source": [
        "# Load the dataset (replace the file path with the actual path)\n",
        "df = pd.read_excel('/content/Emotions_DS.xlsx')"
      ],
      "metadata": {
        "id": "_fHbA6Q143Q7"
      },
      "execution_count": null,
      "outputs": []
    },
    {
      "cell_type": "code",
      "source": [
        "# -1 -> 0 (negative emotion), 0 -> 1 (neutral emotion), 1 -> 2 (positive emotion)\n",
        "df['Emotion'] = df['Emotion'].replace({-1: 2,-2:2,-3:2, 0: 0, 1: 1,2:1,9:1})\n",
        "\n",
        "# Create a new dataframe after replacements\n",
        "new_df = df.copy()\n",
        "\n",
        "# Display the first few rows of the new dataframe\n",
        "print(\"New DataFrame after Emotion Replacement:\")\n",
        "print(new_df.head())\n"
      ],
      "metadata": {
        "colab": {
          "base_uri": "https://localhost:8080/"
        },
        "id": "agzkG0r-4P6e",
        "outputId": "4f4a69de-48a0-4d81-a6cf-5765410ee181"
      },
      "execution_count": null,
      "outputs": [
        {
          "output_type": "stream",
          "name": "stdout",
          "text": [
            "New DataFrame after Emotion Replacement:\n",
            "      ID Type                                          Utterance Dialogue_Act  \\\n",
            "0  194_0    T  Hi. Alvina, how are you doing today? It's good...           gt   \n",
            "1  194_1    P                                    I'm just tired.           gt   \n",
            "2  194_2    T                                        just tired?          crq   \n",
            "3  194_3    P                                               Yeah           cd   \n",
            "4  194_4    T  you know, we did some pre visit planning with ...      gc, irq   \n",
            "\n",
            "   Emotion  \n",
            "0        0  \n",
            "1        2  \n",
            "2        0  \n",
            "3        2  \n",
            "4        0  \n"
          ]
        }
      ]
    },
    {
      "cell_type": "code",
      "source": [
        "# Assuming the target column is named 'emotion'\n",
        "target_column = 'Emotion'\n",
        "\n",
        "# Extract the classes and compute class weights\n",
        "classes = new_df[target_column].unique()\n",
        "class_weights = compute_class_weight(class_weight='balanced',\n",
        "                                     classes=classes,\n",
        "                                     y=new_df[target_column])\n",
        "class_weight_dict = dict(zip(classes, class_weights))\n",
        "print(\"\\nClass Weights:\")\n",
        "print(class_weight_dict)\n"
      ],
      "metadata": {
        "colab": {
          "base_uri": "https://localhost:8080/"
        },
        "id": "6RlLz5rT4Ual",
        "outputId": "3688fd4e-6672-49eb-c922-9ea9e95c176e"
      },
      "execution_count": null,
      "outputs": [
        {
          "output_type": "stream",
          "name": "stdout",
          "text": [
            "\n",
            "Class Weights:\n",
            "{0: 0.4267935578330893, 2: 1.6345794392523365, 1: 22.139240506329113}\n"
          ]
        }
      ]
    },
    {
      "cell_type": "code",
      "source": [
        "# Initialize XGBoost Classifier\n",
        "xgb_classifier = XGBClassifier(scale_pos_weight=class_weight_dict[1],\n",
        "                                random_state=42,\n",
        "                                use_label_encoder=False,\n",
        "                                eval_metric='mlogloss')\n",
        "\n",
        "# Create a pipeline that first preprocesses the data and then applies the classifier\n",
        "pipeline = Pipeline(steps=[\n",
        "    ('preprocessor', preprocessor),\n",
        "    ('classifier', xgb_classifier)\n",
        "])"
      ],
      "metadata": {
        "id": "rGdEkNYi6rL0"
      },
      "execution_count": null,
      "outputs": []
    },
    {
      "cell_type": "code",
      "source": [
        "# --------------------------------------------\n",
        "# 7. Hyperparameter Tuning using GridSearchCV\n",
        "# --------------------------------------------\n",
        "# Define hyperparameter grid\n",
        "param_grid = {\n",
        "    'classifier__n_estimators': [50, 100, 200],\n",
        "    'classifier__max_depth': [None, 10, 20, 30],\n",
        "    'classifier__min_samples_split': [2, 5, 10]\n",
        "}\n",
        "\n",
        "# Initialize GridSearchCV\n",
        "grid_search = GridSearchCV(pipeline, param_grid,\n",
        "                           cv=5,\n",
        "                           scoring='f1_macro',\n",
        "                           n_jobs=-1,\n",
        "                           verbose=1)\n",
        "\n",
        "# Fit GridSearchCV\n",
        "print(\"\\nStarting Hyperparameter Tuning...\")\n",
        "grid_search.fit(X_train, y_train)\n",
        "print(\"Best Parameters:\", grid_search.best_params_)\n",
        "print(\"Best CV Score:\", grid_search.best_score_)"
      ],
      "metadata": {
        "colab": {
          "base_uri": "https://localhost:8080/"
        },
        "id": "Jgwe-k_N6xXC",
        "outputId": "f4fe73df-6e87-43ee-86f1-5a994c6908c7"
      },
      "execution_count": null,
      "outputs": [
        {
          "output_type": "stream",
          "name": "stdout",
          "text": [
            "\n",
            "Starting Hyperparameter Tuning...\n",
            "Fitting 5 folds for each of 36 candidates, totalling 180 fits\n",
            "Best Parameters: {'classifier__max_depth': None, 'classifier__min_samples_split': 2, 'classifier__n_estimators': 50}\n",
            "Best CV Score: 0.5378695572235803\n"
          ]
        }
      ]
    },
    {
      "cell_type": "code",
      "source": [
        "# --------------------------------------------\n",
        "# 8. Training the Final Model\n",
        "# --------------------------------------------\n",
        "\n",
        "# Retrieve the best estimator\n",
        "best_model = grid_search.best_estimator_\n",
        "\n",
        "# Fit the best model on the entire training data\n",
        "best_model.fit(X_train, y_train)\n",
        "\n",
        "# --------------------------------------------\n",
        "# 9. Evaluating the Model\n",
        "# --------------------------------------------\n",
        "\n",
        "# Predict on the test set\n",
        "y_pred = best_model.predict(X_test)\n",
        "\n",
        "# Calculate evaluation metrics\n",
        "accuracy = accuracy_score(y_test, y_pred)\n",
        "precision = precision_score(y_test, y_pred, average='macro', zero_division=0)\n",
        "recall = recall_score(y_test, y_pred, average='macro', zero_division=0)\n",
        "f1 = f1_score(y_test, y_pred, average='macro', zero_division=0)\n",
        "\n",
        "print(\"\\nModel Evaluation Metrics:\")\n",
        "print(f\"Accuracy : {accuracy:.4f}\")\n",
        "print(f\"Precision: {precision:.4f}\")\n",
        "print(f\"Recall   : {recall:.4f}\")\n",
        "print(f\"F1-Score : {f1:.4f}\")"
      ],
      "metadata": {
        "colab": {
          "base_uri": "https://localhost:8080/"
        },
        "id": "Z8sTa79a60rP",
        "outputId": "38f2f2a4-cb5c-43f1-9ad3-6aa1e781a468"
      },
      "execution_count": null,
      "outputs": [
        {
          "output_type": "stream",
          "name": "stdout",
          "text": [
            "\n",
            "Model Evaluation Metrics:\n",
            "Accuracy : 0.8505\n",
            "Precision: 0.5209\n",
            "Recall   : 0.5138\n",
            "F1-Score : 0.5168\n"
          ]
        }
      ]
    },
    {
      "cell_type": "code",
      "source": [
        "\n",
        "# Detailed classification report\n",
        "print(\"\\nClassification Report:\")\n",
        "print(classification_report(y_test, y_pred, zero_division=0))\n",
        "\n",
        "# Confusion Matrix\n",
        "print(\"Confusion Matrix:\")\n",
        "print(confusion_matrix(y_test, y_pred))"
      ],
      "metadata": {
        "colab": {
          "base_uri": "https://localhost:8080/"
        },
        "id": "YUd4TFSv69LZ",
        "outputId": "6464e504-0e80-4181-f62b-69e6d557c989"
      },
      "execution_count": null,
      "outputs": [
        {
          "output_type": "stream",
          "name": "stdout",
          "text": [
            "\n",
            "Classification Report:\n",
            "              precision    recall  f1-score   support\n",
            "\n",
            "           0       0.89      0.93      0.91       820\n",
            "           1       0.00      0.00      0.00        16\n",
            "           2       0.67      0.61      0.64       214\n",
            "\n",
            "    accuracy                           0.85      1050\n",
            "   macro avg       0.52      0.51      0.52      1050\n",
            "weighted avg       0.83      0.85      0.84      1050\n",
            "\n",
            "Confusion Matrix:\n",
            "[[762   1  57]\n",
            " [  8   0   8]\n",
            " [ 82   1 131]]\n"
          ]
        }
      ]
    },
    {
      "cell_type": "code",
      "source": [],
      "metadata": {
        "id": "kO8pfy-br4LP"
      },
      "execution_count": null,
      "outputs": []
    }
  ]
}